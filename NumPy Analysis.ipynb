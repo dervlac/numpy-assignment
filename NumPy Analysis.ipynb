{
 "cells": [
  {
   "cell_type": "markdown",
   "metadata": {},
   "source": [
    "# An Analysis of the numpy.random Python Package (v 1.19)"
   ]
  },
  {
   "cell_type": "markdown",
   "metadata": {},
   "source": [
    "NumPy is a Python package which enables the creation, manipulation and analysis of multi-dimensional arrays. As such, it is a key package for performing scientific computing within python [1].\n",
    "\n",
    "A subset of the numpy package is numpy.random, which is used for the generation of pseudorandom number arrays based on defined parameters, and in some cases the stated probability distribution [2]. If the size of the array generated is sufficiently large, the plot of the array should mimic the distribution of the probability distribution used to generate the array. When a distribution is not specified, simple random data is generated.\n",
    "\n",
    "When generating a random array, a seed is required in order to generate the pseudorandom numbers. This seed can be defined in order to ensure the array remains identical for each execution of the code. If the default seed is used, the generated numbers will be truly unpredictable, with varying results for each execution [3].\n"
   ]
  },
  {
   "cell_type": "code",
   "execution_count": 1,
   "metadata": {},
   "outputs": [],
   "source": [
    "# importing the package for analysis\n",
    "import numpy as np\n",
    "# creating a variable with the default seed generator for ease of reference\n",
    "rng = np.random.default_rng()\n",
    "\n",
    "import matplotlib.pyplot as plt"
   ]
  },
  {
   "cell_type": "markdown",
   "metadata": {},
   "source": [
    "## Simple Random Data\n",
    "\n",
    "*integers, random, choice and bytes*"
   ]
  },
  {
   "cell_type": "markdown",
   "metadata": {},
   "source": [
    "#### Integers"
   ]
  },
  {
   "cell_type": "markdown",
   "metadata": {},
   "source": [
    "Integers allows for 5 different parameters; high, low, dtype, size and endpoint. The output is an array of the defined size, filled with random integer values between the low and high values (including the low, excluding the high from the sample options). If undefined, the low has a default value of 0|"
   ]
  },
  {
   "cell_type": "code",
   "execution_count": 2,
   "metadata": {},
   "outputs": [
    {
     "data": {
      "image/png": "[encoded data removed]",
      "text/plain": [
       "<Figure size 432x288 with 1 Axes>"
      ]
     },
     "metadata": {
      "needs_background": "light"
     },
     "output_type": "display_data"
    }
   ],
   "source": [
    "x1 = rng.integers(100, size=1000)\n",
    "plt.hist(x1)\n",
    "plt.show()"
   ]
  },
  {
   "cell_type": "markdown",
   "metadata": {},
   "source": [
    "The above plot shows that the upper bound value of 100 is not included in the range of values included."
   ]
  },
  {
   "cell_type": "code",
   "execution_count": 3,
   "metadata": {},
   "outputs": [
    {
     "data": {
      "image/png": "[encoded data removed]",
      "text/plain": [
       "<Figure size 432x288 with 1 Axes>"
      ]
     },
     "metadata": {
      "needs_background": "light"
     },
     "output_type": "display_data"
    }
   ],
   "source": [
    "# testing the impact of the endpoint parameter\n",
    "y1 = rng.integers(100, size=1000, endpoint=True)\n",
    "plt.hist(y1)\n",
    "plt.show()"
   ]
  },
  {
   "cell_type": "markdown",
   "metadata": {},
   "source": [
    "As evidenced within the above plot, by changing endpoint from the default of False to True, the high value is now included in the range of integers to be randomly sampled."
   ]
  },
  {
   "cell_type": "code",
   "execution_count": 4,
   "metadata": {},
   "outputs": [
    {
     "data": {
      "image/png": "[encoded data removed]",
      "text/plain": [
       "<Figure size 432x288 with 1 Axes>"
      ]
     },
     "metadata": {
      "needs_background": "light"
     },
     "output_type": "display_data"
    }
   ],
   "source": [
    "# investigating whether negative values can be included by specifying the low value\n",
    "z1 = rng.integers(low=-50, high=50, size=1000)\n",
    "plt.hist(z1)\n",
    "plt.show()"
   ]
  },
  {
   "cell_type": "markdown",
   "metadata": {},
   "source": [
    "When the low value is not specified, it is assumed as 0, but it will allow a user input to allow for negative integers, or increase the lower bound as required"
   ]
  },
  {
   "cell_type": "markdown",
   "metadata": {},
   "source": [
    "#### Random"
   ]
  },
  {
   "cell_type": "markdown",
   "metadata": {},
   "source": [
    "Random takes in up to 3 parameters; size, dtype, and out"
   ]
  },
  {
   "cell_type": "code",
   "execution_count": 5,
   "metadata": {},
   "outputs": [
    {
     "data": {
      "text/plain": [
       "0.16748365300551193"
      ]
     },
     "execution_count": 5,
     "metadata": {},
     "output_type": "execute_result"
    }
   ],
   "source": [
    "# when no parameters are passed, a random number between 0 and 1 is returned\n",
    "w2 = rng.random()\n",
    "w2"
   ]
  },
  {
   "cell_type": "code",
   "execution_count": 6,
   "metadata": {
    "scrolled": true
   },
   "outputs": [
    {
     "data": {
      "image/png": "[encoded data removed]",
      "text/plain": [
       "<Figure size 432x288 with 1 Axes>"
      ]
     },
     "metadata": {
      "needs_background": "light"
     },
     "output_type": "display_data"
    }
   ],
   "source": [
    "x2 = rng.random(1000)\n",
    "plt.hist(x2)\n",
    "plt.show()"
   ]
  },
  {
   "cell_type": "markdown",
   "metadata": {},
   "source": [
    "when a single parameter is entered, numpy assumes it is a size parameter, resulting in the above graph with 1000 random numbers between 0 and 1"
   ]
  },
  {
   "cell_type": "code",
   "execution_count": 7,
   "metadata": {},
   "outputs": [
    {
     "data": {
      "image/png": "[encoded data removed]",
      "text/plain": [
       "<Figure size 432x288 with 1 Axes>"
      ]
     },
     "metadata": {
      "needs_background": "light"
     },
     "output_type": "display_data"
    }
   ],
   "source": [
    "# can specify output type instead of size, to get arrays of a set size, rather than 1 array\n",
    "y2 = rng.random((10,10))\n",
    "plt.hist(y2)\n",
    "plt.show()"
   ]
  },
  {
   "cell_type": "markdown",
   "metadata": {},
   "source": [
    "the output is 10 arrays of size 10; numpy has used 10 colours to represent the values in each of the 10 arrays"
   ]
  },
  {
   "cell_type": "markdown",
   "metadata": {},
   "source": [
    "#### Choice"
   ]
  },
  {
   "cell_type": "markdown",
   "metadata": {},
   "source": [
    "choice accepts 6 parameters; a, size, replace, p, axis and shuffle.\n",
    "\n",
    "_a:_ this can be either an array, or a single positive integer, which provides the pool from which the random sample is generated. If a is a single figure, the selection range will be all the integers from 0 to a (excluding a). This array does not have to be numeric.\n",
    "\n",
    "_size:_ defines the size of the output. If the replace parameter is set to _False_, then size must be less than or equal to the size of _a_\n",
    "\n",
    "_replace:_ defines whether, once a value has been randomly selected, if it can be selected again. By default, this value is set to True. If set to False, each value can be selected at most once.\n",
    "\n",
    "_p:_ this parameter allows the user to define varying probabilities for selection to the values in the selection pool; thus, if defined, it must be equal in size to a. By default, the probability of selecting any number is equal.\n",
    "\n",
    "_axis:_ for multidimensional input arrays, the axis parameter defines the position in these arrays from which to sample. if a 1D array, or single integer value, is defined for a, then a change to this parameter should have no impact on the random selection.\n",
    "\n",
    "_shuffle:_ intuitively, this parameter defines whether the input data is shuffled between selections. This is only applicable when replace is set to False. By setting this parameter to False, the function will execute at a quicker rate, which may be beneficial for large input sizes.\n",
    "\n",
    "The most complex function within the simple random data section of numpy.random, choice mirrors permutations and combinations, depending on the value assigned to the 'replace' parameter."
   ]
  },
  {
   "cell_type": "code",
   "execution_count": 8,
   "metadata": {},
   "outputs": [
    {
     "data": {
      "image/png": "[encoded data removed]",
      "text/plain": [
       "<Figure size 432x288 with 1 Axes>"
      ]
     },
     "metadata": {
      "needs_background": "light"
     },
     "output_type": "display_data"
    }
   ],
   "source": [
    "x3 = rng.choice(100,size=1000,replace=True)\n",
    "# attempting to run this with replace=False will cause an error, as the number of selections to be made exceeds the numbers to be chosen from.\n",
    "plt.hist(x3)\n",
    "plt.show()"
   ]
  },
  {
   "cell_type": "code",
   "execution_count": 9,
   "metadata": {},
   "outputs": [
    {
     "data": {
      "image/png": "[encoded data removed]",
      "text/plain": [
       "<Figure size 432x288 with 1 Axes>"
      ]
     },
     "metadata": {
      "needs_background": "light"
     },
     "output_type": "display_data"
    }
   ],
   "source": [
    "y3 = rng.choice(1000,size=1000,replace=False)\n",
    "plt.hist(y3)\n",
    "plt.show()"
   ]
  },
  {
   "cell_type": "markdown",
   "metadata": {},
   "source": [
    "Without replacement, when the selection pool and sample size are equal, each value is returned exactly once. While this appears redundant when plotted on a histogram, the order of the output array would prove useful if, for example, you wished to randomly assign a unique number to 1000 individuals in order to maintain anonymity."
   ]
  },
  {
   "cell_type": "code",
   "execution_count": 10,
   "metadata": {},
   "outputs": [
    {
     "data": {
      "image/png": "[encoded data removed]",
      "text/plain": [
       "<Figure size 432x288 with 1 Axes>"
      ]
     },
     "metadata": {
      "needs_background": "light"
     },
     "output_type": "display_data"
    }
   ],
   "source": [
    "z3 = rng.choice(['a','b','c','d','e','f','g','h','i','j'],size=1000)\n",
    "plt.hist(z3)\n",
    "plt.show()"
   ]
  },
  {
   "cell_type": "code",
   "execution_count": 11,
   "metadata": {},
   "outputs": [
    {
     "data": {
      "image/png": "[encoded data removed]",
      "text/plain": [
       "<Figure size 432x288 with 1 Axes>"
      ]
     },
     "metadata": {
      "needs_background": "light"
     },
     "output_type": "display_data"
    }
   ],
   "source": [
    "w3 = rng.choice(['a','b','c','d','e','f','g','h','i','j'],size=1000,p=[0.05,0.01,0.5,0.04,0.2,0.04,0.04,0.04,0.04,0.04])\n",
    "plt.hist(w3)\n",
    "plt.show()"
   ]
  },
  {
   "cell_type": "markdown",
   "metadata": {},
   "source": [
    "As shown by the histograms of z3 and w3 above, assigning a probability weighting to the selection array has a significant influence on the selection. z3, where the values have been assigned equal probabilities of selection, appears to be graduating towards a uniform distribution, as expected. w3, by comparison, has a very high frequency of c, as expected by the 0.5 probability assigned to that value."
   ]
  },
  {
   "cell_type": "markdown",
   "metadata": {},
   "source": [
    "#### Bytes"
   ]
  },
  {
   "cell_type": "markdown",
   "metadata": {},
   "source": [
    "Bytes takes only 1 input parameter; length. This defines the size of the output."
   ]
  },
  {
   "cell_type": "code",
   "execution_count": 12,
   "metadata": {},
   "outputs": [
    {
     "data": {
      "image/png": "[encoded data removed]",
      "text/plain": [
       "<Figure size 432x288 with 1 Axes>"
      ]
     },
     "metadata": {
      "needs_background": "light"
     },
     "output_type": "display_data"
    }
   ],
   "source": [
    "x4 = rng.bytes(1000)\n",
    "#because the data is not numeric, cannot be plotted as a histogram\n",
    "#instead I will use a barchart, to allow for a measure of comparison with the previous histograms\n",
    "height = []\n",
    "for i in x4:\n",
    "    if i not in height:\n",
    "        height.append(i)\n",
    "count = np.zeros(len(height))\n",
    "for j in x4:\n",
    "    for k in range(len(height)):\n",
    "        if j == height[k-1]:\n",
    "            count[k-1] += 1\n",
    "\n",
    "plt.bar(height,count)\n",
    "plt.show()"
   ]
  },
  {
   "cell_type": "markdown",
   "metadata": {},
   "source": [
    "## Permutations\n",
    "\n",
    "*shuffle and permutation*"
   ]
  },
  {
   "cell_type": "markdown",
   "metadata": {},
   "source": [
    "The shuffle and permutation functions have a lot in common; both have the same 2 input parameters - an ndarray to be rearranged, and an optional axis parameter - and at first glance, appear to produce the same format. In practice, there are two key differences between shuffle and permutation [4]:\n",
    "\n",
    " - permutation creates a rearranged _copy_ of the input array, whereas shuffle directly rearranges the input array. This property isn't evident when the input array is directly input within the function. However, if a predefined array x is used for the input, running the permutation function with input x has no effect on the variable x in itself; inputting x to the shuffle function will overwrite the variable with the shuffled array. Thus, if the original input needs to be maintained, the permutation function should be used.\n",
    " \n",
    " - if an integer value is used as the input for the function, shuffle will return an error, while permutation will rearrange a 1D-array of integer values from zero up to the the value below the input number"
   ]
  },
  {
   "cell_type": "code",
   "execution_count": 13,
   "metadata": {},
   "outputs": [],
   "source": [
    "# defining 2 identical arrays, to compare how they are treated by both the permutation and shuffle functions\n",
    "a1 = np.arange(10)\n",
    "a2 = np.arange(10)"
   ]
  },
  {
   "cell_type": "code",
   "execution_count": 14,
   "metadata": {},
   "outputs": [
    {
     "data": {
      "text/plain": [
       "array([0, 1, 2, 3, 4, 5, 6, 7, 8, 9])"
      ]
     },
     "execution_count": 14,
     "metadata": {},
     "output_type": "execute_result"
    }
   ],
   "source": [
    "a1"
   ]
  },
  {
   "cell_type": "code",
   "execution_count": 15,
   "metadata": {},
   "outputs": [
    {
     "data": {
      "text/plain": [
       "array([0, 1, 2, 3, 4, 5, 6, 7, 8, 9])"
      ]
     },
     "execution_count": 15,
     "metadata": {},
     "output_type": "execute_result"
    }
   ],
   "source": [
    "a2"
   ]
  },
  {
   "cell_type": "markdown",
   "metadata": {},
   "source": [
    "The above outputs show that, before using the arrays as inputs to a function, they are identical. "
   ]
  },
  {
   "cell_type": "code",
   "execution_count": 16,
   "metadata": {},
   "outputs": [],
   "source": [
    "a1_perm = rng.permutation(a1)"
   ]
  },
  {
   "cell_type": "code",
   "execution_count": 17,
   "metadata": {},
   "outputs": [
    {
     "data": {
      "text/plain": [
       "array([0, 1, 2, 3, 4, 5, 6, 7, 8, 9])"
      ]
     },
     "execution_count": 17,
     "metadata": {},
     "output_type": "execute_result"
    }
   ],
   "source": [
    "a1"
   ]
  },
  {
   "cell_type": "code",
   "execution_count": 18,
   "metadata": {},
   "outputs": [
    {
     "data": {
      "text/plain": [
       "array([8, 6, 7, 0, 4, 9, 3, 2, 1, 5])"
      ]
     },
     "execution_count": 18,
     "metadata": {},
     "output_type": "execute_result"
    }
   ],
   "source": [
    "a1_perm"
   ]
  },
  {
   "cell_type": "markdown",
   "metadata": {},
   "source": [
    "After using a1 as the input to the permutation function, it remains as it was initially deinfed, and the new variable is assigned the rearranged copy produced by the permutation function"
   ]
  },
  {
   "cell_type": "code",
   "execution_count": 19,
   "metadata": {},
   "outputs": [],
   "source": [
    "a2_shuf = rng.shuffle(a2)"
   ]
  },
  {
   "cell_type": "code",
   "execution_count": 20,
   "metadata": {},
   "outputs": [
    {
     "data": {
      "text/plain": [
       "array([5, 1, 4, 7, 9, 2, 8, 0, 3, 6])"
      ]
     },
     "execution_count": 20,
     "metadata": {},
     "output_type": "execute_result"
    }
   ],
   "source": [
    "a2"
   ]
  },
  {
   "cell_type": "code",
   "execution_count": 21,
   "metadata": {},
   "outputs": [],
   "source": [
    "a2_shuf"
   ]
  },
  {
   "cell_type": "markdown",
   "metadata": {},
   "source": [
    "In contrast, the valueas within the a2 array have been reordered following their use within the shuffle function, and as there is no new output from the shuffle function, the variable a2_shuf has no value."
   ]
  },
  {
   "cell_type": "code",
   "execution_count": 22,
   "metadata": {},
   "outputs": [
    {
     "data": {
      "text/plain": [
       "array([7, 6, 0, 1, 9, 5, 4, 2, 8, 3])"
      ]
     },
     "execution_count": 22,
     "metadata": {},
     "output_type": "execute_result"
    }
   ],
   "source": [
    "rng.permutation(10)\n",
    "# this will return an error if shuffle is used instead of permutation"
   ]
  },
  {
   "cell_type": "code",
   "execution_count": 23,
   "metadata": {},
   "outputs": [
    {
     "data": {
      "text/plain": [
       "array([[0, 1, 2],\n",
       "       [3, 4, 5],\n",
       "       [6, 7, 8]])"
      ]
     },
     "execution_count": 23,
     "metadata": {},
     "output_type": "execute_result"
    }
   ],
   "source": [
    "a3 = [[0,1,2],[3,4,5],[6,7,8]]\n",
    "rng.permutation(a3)"
   ]
  },
  {
   "cell_type": "code",
   "execution_count": 24,
   "metadata": {},
   "outputs": [
    {
     "data": {
      "text/plain": [
       "array([[2, 0, 1],\n",
       "       [5, 3, 4],\n",
       "       [8, 6, 7]])"
      ]
     },
     "execution_count": 24,
     "metadata": {},
     "output_type": "execute_result"
    }
   ],
   "source": [
    "rng.permutation(a3,axis=1)"
   ]
  },
  {
   "cell_type": "markdown",
   "metadata": {},
   "source": [
    "When a 2D array is used as the input, the definition of the axis parameter affects how the data is rearranged. The default value of axis=0 will permutate the order of the subarrays without rearranging the values within each subarray. By contrast, when axis is set to 1, the order of the sub arrays remain unchanged, while the values within each subarray are rearranged.\n",
    "\n",
    "From multiple runs of the above cell, it is clear that the same rearrangement is performed for all subarrays of the input."
   ]
  },
  {
   "cell_type": "markdown",
   "metadata": {},
   "source": [
    "## Distributions\n",
    "\n",
    "*binomial, exponential, normal, poisson and uniform*"
   ]
  },
  {
   "cell_type": "code",
   "execution_count": 25,
   "metadata": {},
   "outputs": [
    {
     "data": {
      "text/plain": [
       "<function matplotlib.pyplot.show(*args, **kw)>"
      ]
     },
     "execution_count": 25,
     "metadata": {},
     "output_type": "execute_result"
    },
    {
     "data": {
      "image/png": "[encoded data removed]",
      "text/plain": [
       "<Figure size 432x288 with 1 Axes>"
      ]
     },
     "metadata": {
      "needs_background": "light"
     },
     "output_type": "display_data"
    }
   ],
   "source": [
    "b_dist = rng.binomial(1000,0.5,size=100)\n",
    "plt.hist(b_dist)\n",
    "plt.show"
   ]
  },
  {
   "cell_type": "code",
   "execution_count": 26,
   "metadata": {},
   "outputs": [
    {
     "data": {
      "image/png": "[encoded data removed]",
      "text/plain": [
       "<Figure size 432x288 with 1 Axes>"
      ]
     },
     "metadata": {
      "needs_background": "light"
     },
     "output_type": "display_data"
    }
   ],
   "source": [
    "e_dist = rng.exponential(0.5,size=1000)\n",
    "plt.hist(e_dist)\n",
    "plt.show()"
   ]
  },
  {
   "cell_type": "code",
   "execution_count": 27,
   "metadata": {},
   "outputs": [
    {
     "data": {
      "text/plain": [
       "<function matplotlib.pyplot.show(*args, **kw)>"
      ]
     },
     "execution_count": 27,
     "metadata": {},
     "output_type": "execute_result"
    },
    {
     "data": {
      "image/png": "[encoded data removed]",
      "text/plain": [
       "<Figure size 432x288 with 1 Axes>"
      ]
     },
     "metadata": {
      "needs_background": "light"
     },
     "output_type": "display_data"
    }
   ],
   "source": [
    "n_dist = rng.normal(loc=10,scale=3,size=1000)\n",
    "plt.hist(n_dist)\n",
    "plt.show"
   ]
  },
  {
   "cell_type": "code",
   "execution_count": 28,
   "metadata": {},
   "outputs": [
    {
     "data": {
      "text/plain": [
       "<function matplotlib.pyplot.show(*args, **kw)>"
      ]
     },
     "execution_count": 28,
     "metadata": {},
     "output_type": "execute_result"
    },
    {
     "data": {
      "image/png": "[encoded data removed]",
      "text/plain": [
       "<Figure size 432x288 with 1 Axes>"
      ]
     },
     "metadata": {
      "needs_background": "light"
     },
     "output_type": "display_data"
    }
   ],
   "source": [
    "p_dist = rng.poisson(lam=5,size=1000)\n",
    "plt.hist(p_dist)\n",
    "plt.show"
   ]
  },
  {
   "cell_type": "code",
   "execution_count": 29,
   "metadata": {},
   "outputs": [
    {
     "data": {
      "text/plain": [
       "<function matplotlib.pyplot.show(*args, **kw)>"
      ]
     },
     "execution_count": 29,
     "metadata": {},
     "output_type": "execute_result"
    },
    {
     "data": {
      "image/png": "[encoded data removed]",
      "text/plain": [
       "<Figure size 432x288 with 1 Axes>"
      ]
     },
     "metadata": {
      "needs_background": "light"
     },
     "output_type": "display_data"
    }
   ],
   "source": [
    "u_dist = rng.uniform(low=0,high=100,size=10000)\n",
    "plt.hist(u_dist)\n",
    "plt.show"
   ]
  },
  {
   "cell_type": "markdown",
   "metadata": {},
   "source": [
    "## Seeds"
   ]
  },
  {
   "cell_type": "code",
   "execution_count": null,
   "metadata": {},
   "outputs": [],
   "source": []
  },
  {
   "cell_type": "markdown",
   "metadata": {},
   "source": [
    "###### References\n",
    "[1] Python NumPy; GeeksForGeeks; https://www.geeksforgeeks.org/python-numpy/\n",
    "\n",
    "[2] Random sampling (numpy.random); NumPy; https://numpy.org/doc/stable/reference/random/index.html\n",
    "\n",
    "[3] Random Generator; NumPy; https://numpy.org/doc/stable/reference/random/generator.html\n",
    "\n",
    "[4] Shuffle vs. Permute Numpy; ecatmur; https://stackoverflow.com/questions/15474159/shuffle-vs-permute-numpy"
   ]
  },
  {
   "cell_type": "code",
   "execution_count": null,
   "metadata": {},
   "outputs": [],
   "source": []
  }
 ],
 "metadata": {
  "kernelspec": {
   "display_name": "Python 3",
   "language": "python",
   "name": "python3"
  },
  "language_info": {
   "codemirror_mode": {
    "name": "ipython",
    "version": 3
   },
   "file_extension": ".py",
   "mimetype": "text/x-python",
   "name": "python",
   "nbconvert_exporter": "python",
   "pygments_lexer": "ipython3",
   "version": "3.8.3"
  }
 },
 "nbformat": 4,
 "nbformat_minor": 4
}
